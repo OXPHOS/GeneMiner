{
 "cells": [
  {
   "cell_type": "code",
   "execution_count": 11,
   "metadata": {},
   "outputs": [],
   "source": [
    "from pyspark.sql import SparkSession, Row\n",
    "from pyspark.sql.types import StructType, StructField, StringType, FloatType\n",
    "import __credential__\n",
    "\n",
    "# Setup Driver for connection\n",
    "from os import environ\n",
    "environ['PYSPARK_SUBMIT_ARGS'] = '--jars /usr/local/spark/jars/postgresql-42.2.2.jar pyspark-shell'\n",
    "environ['PYSPARK_PYTHON']='/home/ubuntu/anaconda3/bin/python'\n",
    "environ['PYSPARK_DRIVER_PYTHON']='/home/ubuntu/anaconda3/bin/jupyter'"
   ]
  },
  {
   "cell_type": "code",
   "execution_count": 12,
   "metadata": {},
   "outputs": [],
   "source": [
    "spark = SparkSession \\\n",
    "    .builder \\\n",
    "    .master(__credential__.spark_host) \\\n",
    "    .appName(\"txt_reader\") \\\n",
    "    .getOrCreate()"
   ]
  },
  {
   "cell_type": "markdown",
   "metadata": {},
   "source": [
    "### Read RNA-seq files of FPKM-UQ format"
   ]
  },
  {
   "cell_type": "code",
   "execution_count": 8,
   "metadata": {},
   "outputs": [
    {
     "data": {
      "text/plain": [
       "[Row(expr_val=0.0, gene_id='ENSG00000242268.2'),\n",
       " Row(expr_val=0.0, gene_id='ENSG00000270112.3'),\n",
       " Row(expr_val=171012.179191, gene_id='ENSG00000167578.15'),\n",
       " Row(expr_val=0.0, gene_id='ENSG00000273842.1'),\n",
       " Row(expr_val=48643.8412233, gene_id='ENSG00000078237.5')]"
      ]
     },
     "execution_count": 8,
     "metadata": {},
     "output_type": "execute_result"
    }
   ],
   "source": [
    "# in tabular format of: [gene_id \\t expression_value]\n",
    "fpkm = spark.read.format(\"csv\")\\\n",
    "    .option(\"delimiter\",\"\\t\").option(\"quote\",\"\")\\\n",
    "    .option(\"header\", \"false\")\\\n",
    "    .option(\"inferSchema\", \"true\")\\\n",
    "    .load(__credential__.modeule_txt_reader_testfile)\n",
    "\n",
    "# Didn't find a way to assign schema after taking in the data\n",
    "#fpkm.setSchema(StructType([ \\\n",
    "#    StructField(\"A\", StringType(), True), StructField(\"B\", FloatType(), True)]))\n",
    "\n",
    "# Assign schema \n",
    "fpkm_rdd = fpkm.rdd.map(lambda x:Row(gene_id=x[0], expr_val=x[1]))\n",
    "fpkm_rdd.take(5)"
   ]
  },
  {
   "cell_type": "markdown",
   "metadata": {},
   "source": [
    "### Read reference genome pre-stored in PostgreSQL database on Amazon AWS"
   ]
  },
  {
   "cell_type": "code",
   "execution_count": 9,
   "metadata": {},
   "outputs": [],
   "source": [
    "ref_genome = spark.read \\\n",
    "    .format('jdbc') \\\n",
    "    .option('url', 'jdbc:postgresql://%s' % __credential__.jdbc_accessible_host) \\\n",
    "    .option('dbtable', __credential__.dbtable) \\\n",
    "    .option('user', __credential__.user) \\\n",
    "    .option('password', __credential__.password) \\\n",
    "    .load()\n",
    "ref_genome_rdd = ref_genome.rdd"
   ]
  },
  {
   "cell_type": "markdown",
   "metadata": {},
   "source": [
    "### Convert gene_id to gene_name via joining 2 tables"
   ]
  },
  {
   "cell_type": "code",
   "execution_count": 10,
   "metadata": {},
   "outputs": [
    {
     "name": "stdout",
     "output_type": "stream",
     "text": [
      "+---------------+-------------+---------+\n",
      "|        gene_id|     expr_val|gene_name|\n",
      "+---------------+-------------+---------+\n",
      "|ENSG00000059588|115837.535272|   TARBP1|\n",
      "|ENSG00000070182|234.534025063|     SPTB|\n",
      "|ENSG00000070366|50443.7932222|     SMG6|\n",
      "|ENSG00000072071|186464.397019|   ADGRL1|\n",
      "|ENSG00000073536|93506.6221732|     NLE1|\n",
      "|ENSG00000075290|182.267288417|    WNT8B|\n",
      "|ENSG00000083454|459.365767466|    P2RX5|\n",
      "|ENSG00000083782|1279.60724588|     EPYC|\n",
      "|ENSG00000086200|86026.2923919|    IPO11|\n",
      "|ENSG00000087087|1011790.34872|     SRRT|\n",
      "+---------------+-------------+---------+\n",
      "only showing top 10 rows\n",
      "\n"
     ]
    }
   ],
   "source": [
    "# Filter all genes with expression level = 0\n",
    "# Truncate the gene id from for eg. `ENSG00000007080.9` to `ENSG00000007080`\n",
    "fpkm_trunc = fpkm_rdd \\\n",
    "                .filter(lambda x: x.expr_val > 0) \\\n",
    "                .map(lambda x : Row( \\\n",
    "                        gene_id=x.gene_id.split('.')[0], \\\n",
    "                        expr_val=x.expr_val)) \\\n",
    "                .toDF()  # .count() = 30361\n",
    "            \n",
    "# Truncate the gene id from for eg. `ENSG00000007080.9` to `ENSG00000007080`\n",
    "ref_genome_trunc = ref_genome_rdd \\\n",
    "                .map(lambda x : Row( \\\n",
    "                        gene_id=x.id.split('.')[0], gene_name=x.name)) \\\n",
    "                .toDF()\n",
    "        \n",
    "# Join to get table: gene_id | gene_name | expr_val\n",
    "match = fpkm_trunc.join(ref_genome_trunc, 'gene_id')\n",
    "match.count()  # 29907 \n",
    "match.show(10)"
   ]
  },
  {
   "cell_type": "markdown",
   "metadata": {},
   "source": [
    "### Convert gene_id to gene_name via joining 2 tables - check"
   ]
  },
  {
   "cell_type": "code",
   "execution_count": null,
   "metadata": {},
   "outputs": [],
   "source": [
    "# Check step: \n",
    "# In test case b9e7b7b5-54e8-4459-8a21-ea3472b013d7.FPKM-UQ.txt,\n",
    "# There are in total 60483 fpkm counts, and 64561 gene entries in ref genome\n",
    "# However, only 37670 entries after inner joinning on gene_id.\n",
    "# Thus, I'm using left outer join to check which gene entries are missing\n",
    "left = fpkm.join(ref_genome, fpkm[0] == ref_genome.id, \"left_outer\")\n",
    "left.count()  # 60483\n",
    "missing = left.rdd.filter(lambda x : x.id == None).map(lambda x : x[0])\n",
    "missing.count()  # 22813\n",
    "\n",
    "# The gene ids in ensembl database (ref genome) and RNA-seq data contains decimal,\n",
    "# such as `ENSG00000007080.9`\n",
    "# However, all ``ENSG00000007080.*` might refer to the same gene\n",
    "# So the decimal is removed for mapping purpose\n",
    "fpkm_trunc = fpkm_rdd.map(lambda x : Row( \\\n",
    "            gene_id=x.gene_id.split('.')[0], expr_val=x.expr_val)).toDF()\n",
    "ref_trunc = ref_genome_rdd.map(lambda x : Row( \\\n",
    "            id=x.id.split('.')[0], name=x.name)).toDF()\n",
    "left_trunc = fpkm_trunc.join(ref_trunc, fpkm_trunc.gene_id == ref_trunc.id, \"left_outer\")\n",
    "missing_trunc = left_trunc.rdd.filter(lambda x : x.id == None).map(lambda x : x.gene_id)\n",
    "missing_trunc.count()  # 3612\n",
    "# The missing ones, such as `ENSG00000221077`, is not found in the downloaded ref genome"
   ]
  }
 ],
 "metadata": {
  "kernelspec": {
   "display_name": "Python (insight36k)",
   "language": "python",
   "name": "insight36k"
  },
  "language_info": {
   "codemirror_mode": {
    "name": "ipython",
    "version": 3.0
   },
   "file_extension": ".py",
   "mimetype": "text/x-python",
   "name": "python",
   "nbconvert_exporter": "python",
   "pygments_lexer": "ipython3",
   "version": "3.6.5"
  }
 },
 "nbformat": 4,
 "nbformat_minor": 0
}