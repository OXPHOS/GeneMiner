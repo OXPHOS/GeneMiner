{
 "cells": [
  {
   "cell_type": "code",
   "execution_count": 1,
   "metadata": {},
   "outputs": [],
   "source": [
    "from pyspark.sql import SparkSession, Row\n",
    "import __credential__\n",
    "from os import environ\n",
    "\n",
    "environ['PYSPARK_SUBMIT_ARGS'] = '--jars /usr/local/spark/jars/postgresql-42.2.2.jar pyspark-shell' \n",
    "environ['PYSPARK_PYTHON']='/home/ubuntu/anaconda3/bin/python'\n",
    "environ['PYSPARK_DRIVER_PYTHON']='/home/ubuntu/anaconda3/bin/jupyter'"
   ]
  },
  {
   "cell_type": "code",
   "execution_count": 2,
   "metadata": {},
   "outputs": [],
   "source": [
    "spark = SparkSession \\\n",
    "    .builder \\\n",
    "    .appName(\"meta_info\") \\\n",
    "    .getOrCreate()\n",
    "    #.master(__credential__.spark_host) \\"
   ]
  },
  {
   "cell_type": "markdown",
   "metadata": {},
   "source": [
    "### Read meta data file"
   ]
  },
  {
   "cell_type": "code",
   "execution_count": 8,
   "metadata": {},
   "outputs": [
    {
     "name": "stdout",
     "output_type": "stream",
     "text": [
      "root\n",
      " |-- access: string (nullable = true)\n",
      " |-- annotations: array (nullable = true)\n",
      " |    |-- element: struct (containsNull = true)\n",
      " |    |    |-- annotation_id: string (nullable = true)\n",
      " |-- cases: array (nullable = true)\n",
      " |    |-- element: struct (containsNull = true)\n",
      " |    |    |-- case_id: string (nullable = true)\n",
      " |    |    |-- project: struct (nullable = true)\n",
      " |    |    |    |-- project_id: string (nullable = true)\n",
      " |-- data_category: string (nullable = true)\n",
      " |-- data_format: string (nullable = true)\n",
      " |-- file_name: string (nullable = true)\n",
      " |-- file_size: long (nullable = true)\n",
      "\n"
     ]
    }
   ],
   "source": [
    "meta = spark.read.json('s3a://gdcdata/refs/files.c+r.json', multiLine=True)\n",
    "meta.printSchema()\n",
    "meta.createOrReplaceTempView(\"meta_view\")"
   ]
  },
  {
   "cell_type": "markdown",
   "metadata": {},
   "source": [
    "### Read manifest data file"
   ]
  },
  {
   "cell_type": "code",
   "execution_count": 92,
   "metadata": {},
   "outputs": [
    {
     "name": "stdout",
     "output_type": "stream",
     "text": [
      "root\n",
      " |-- path: string (nullable = true)\n",
      " |-- filename: string (nullable = true)\n",
      "\n"
     ]
    }
   ],
   "source": [
    "manifest = spark.read.format(\"csv\")\\\n",
    "    .option(\"delimiter\",\"\\t\").option(\"quote\",\"\")\\\n",
    "    .option(\"header\", \"true\")\\\n",
    "    .option(\"inferSchema\", \"true\")\\\n",
    "    .load('s3a://gdcdata/refs/gdc_manifest.c+r.txt')\n",
    "manifest = manifest.selectExpr('id as path', 'filename as filename')\n",
    "manifest.printSchema()\n",
    "manifest.createOrReplaceTempView(\"manifest_view\")"
   ]
  },
  {
   "cell_type": "markdown",
   "metadata": {},
   "source": [
    "### Join information from meta files and manifest files"
   ]
  },
  {
   "cell_type": "code",
   "execution_count": 27,
   "metadata": {},
   "outputs": [
    {
     "name": "stdout",
     "output_type": "stream",
     "text": [
      "+--------------------+--------------------+-----------+-----------+--------------------+\n",
      "|                  id|            filename|data_format| project_id|             case_id|\n",
      "+--------------------+--------------------+-----------+-----------+--------------------+\n",
      "|9669a175-8199-4ef...|nationwidechildre...|    BCR XML|[TCGA-BRCA]|[8240c4ae-f878-48...|\n",
      "|60aec852-6075-446...|148d950b-4202-4f3...|        TXT|[TCGA-BRCA]|[f3cb557d-23e4-4f...|\n",
      "|8dc57eac-45aa-4af...|a2233404-f380-4bd...|        TXT|[TCGA-BRCA]|[ee5744c0-a8dc-43...|\n",
      "|a9795a96-c066-467...|b2a6c9e3-65eb-43b...|        TXT|[TCGA-BRCA]|[c0b7b798-3383-4a...|\n",
      "|7a02938c-644c-487...|99c7b545-c90e-407...|        TXT|[TCGA-BRCA]|[d8492ebd-3d94-4a...|\n",
      "+--------------------+--------------------+-----------+-----------+--------------------+\n",
      "only showing top 5 rows\n",
      "\n"
     ]
    }
   ],
   "source": [
    "index = spark.sql('''\n",
    "        SELECT manifest_view.id, manifest_view.filename, meta_view.data_format, \\\n",
    "        meta_view.cases.project.project_id, meta_view.cases.case_id \n",
    "        FROM manifest_view\n",
    "        INNER JOIN meta_view ON  manifest_view.filename=meta_view.file_name\n",
    "        ''')\n",
    "index.createOrReplaceTempView(\"index_view\")\n",
    "index.show(5)"
   ]
  },
  {
   "cell_type": "markdown",
   "metadata": {},
   "source": [
    "### Split files and save to PostgreSQL"
   ]
  },
  {
   "cell_type": "code",
   "execution_count": 72,
   "metadata": {},
   "outputs": [],
   "source": [
    "def psql_saver(df, tbname, savemode='error'):\n",
    "    df.createOrReplaceTempView(\"view\")\n",
    "    spark.sql('''SELECT * FROM view''').write \\\n",
    "    .format('jdbc') \\\n",
    "    .option('url', 'jdbc:postgresql://%s' % __credential__.jdbc_accessible_host_psql) \\\n",
    "    .option('dbtable', tbname) \\\n",
    "    .option('user', __credential__.user_psql) \\\n",
    "    .option('password', __credential__.password_psql) \\\n",
    "    .mode(savemode) \\\n",
    "    .save()"
   ]
  },
  {
   "cell_type": "code",
   "execution_count": 88,
   "metadata": {},
   "outputs": [
    {
     "name": "stdout",
     "output_type": "stream",
     "text": [
      "Saving [BCR XML] data to PostgreSQL table [xml_list]...\n",
      "Saving [TXT] data to PostgreSQL table [txt_list]...\n"
     ]
    }
   ],
   "source": [
    "TableByFormat = {'BCR XML': 'xml_list', 'TXT': 'txt_list'}\n",
    "files_groupby_types = list(map(lambda key : { \\\n",
    "            'type' : key, \\\n",
    "            'flist' : index.filter(index.data_format == key)}, \\\n",
    "                               TableByFormat))\n",
    "for files in files_groupby_types:\n",
    "    print(\"Saving [%s] data to PostgreSQL table [%s]...\" \\\n",
    "          % (files['type'], TableByFormat[files['type']]))\n",
    "    psql_saver(files['flist'], TableByFormat[files['type']], 'overwrite')"
   ]
  },
  {
   "cell_type": "markdown",
   "metadata": {},
   "source": [
    "### Unreadable files"
   ]
  },
  {
   "cell_type": "code",
   "execution_count": 73,
   "metadata": {},
   "outputs": [],
   "source": [
    "unreadable = index.rdd.filter(lambda x: x.data_format not in TableByFormat)\n",
    "if unreadable.count():\n",
    "    print(\"Saving data in unkown foramt to PostgreSQL table: unknowns.\")\n",
    "    psql_saver(unreadable.toDF(), 'unknowns', 'overwrite')"
   ]
  },
  {
   "cell_type": "markdown",
   "metadata": {},
   "source": [
    "### Playground"
   ]
  },
  {
   "cell_type": "code",
   "execution_count": null,
   "metadata": {},
   "outputs": [],
   "source": [
    "TableByFormat = {'BCR ML': 'xml_list', 'TXT': 'txt_list'}\n",
    "diff_cat_in_train_test=test.select('Product_ID').subtract(train.select('Product_ID'))\n",
    "file_unreadable = reduce((lambda key : index.filter(index.data_format != key)), TableByFormat)\n",
    "file_unreadable\n",
    "#file_unreadable.count()"
   ]
  },
  {
   "cell_type": "code",
   "execution_count": 38,
   "metadata": {},
   "outputs": [
    {
     "name": "stdout",
     "output_type": "stream",
     "text": [
      "+-----------+--------+\n",
      "|data_format|count(1)|\n",
      "+-----------+--------+\n",
      "|    BCR XML|    1097|\n",
      "|        TXT|    3666|\n",
      "+-----------+--------+\n",
      "\n"
     ]
    }
   ],
   "source": [
    "t = info.groupBy(\"data_format\").agg({\"*\": \"count\"})\n",
    "t.show(5)"
   ]
  },
  {
   "cell_type": "code",
   "execution_count": 20,
   "metadata": {},
   "outputs": [],
   "source": [
    "spark.stop()"
   ]
  },
  {
   "cell_type": "code",
   "execution_count": null,
   "metadata": {},
   "outputs": [],
   "source": []
  }
 ],
 "metadata": {
  "kernelspec": {
   "display_name": "Python (insight36k)",
   "language": "python",
   "name": "insight36k"
  },
  "language_info": {
   "codemirror_mode": {
    "name": "ipython",
    "version": 3
   },
   "file_extension": ".py",
   "mimetype": "text/x-python",
   "name": "python",
   "nbconvert_exporter": "python",
   "pygments_lexer": "ipython3",
   "version": "3.6.5"
  }
 },
 "nbformat": 4,
 "nbformat_minor": 2
}
